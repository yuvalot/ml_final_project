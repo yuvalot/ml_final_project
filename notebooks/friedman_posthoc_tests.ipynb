{
  "nbformat": 4,
  "nbformat_minor": 0,
  "metadata": {
    "colab": {
      "name": "friedman_posthoc_tests.ipynb",
      "provenance": [],
      "collapsed_sections": []
    },
    "kernelspec": {
      "name": "python3",
      "display_name": "Python 3"
    },
    "language_info": {
      "name": "python"
    },
    "accelerator": "GPU"
  },
  "cells": [
    {
      "cell_type": "code",
      "metadata": {
        "colab": {
          "base_uri": "https://localhost:8080/"
        },
        "id": "IX-K1WaLcOXk",
        "outputId": "5d7c186e-a320-4309-8c20-403f0b8b9396"
      },
      "source": [
        "import pandas as pd\n",
        "import numpy as np\n",
        "from google.colab import drive\n",
        "import scipy.stats\n",
        "drive.mount('/drive')\n",
        "%cd '/drive/MyDrive/ml'"
      ],
      "execution_count": 11,
      "outputs": [
        {
          "output_type": "stream",
          "text": [
            "Drive already mounted at /drive; to attempt to forcibly remount, call drive.mount(\"/drive\", force_remount=True).\n",
            "/drive/MyDrive/ml\n"
          ],
          "name": "stdout"
        }
      ]
    },
    {
      "cell_type": "code",
      "metadata": {
        "colab": {
          "base_uri": "https://localhost:8080/"
        },
        "id": "asDXM7enIgph",
        "outputId": "2e97f30f-b341-45e4-c43a-d9e0c764d25b"
      },
      "source": [
        "files = '''acute-inflammation.csv\n",
        "bank.csv\n",
        "conn-bench-sonar-mines-rocks.csv\n",
        "credit-approval.csv\n",
        "fertility.csv\n",
        "hepatitis.csv\n",
        "iris.csv\n",
        "monks-3.csv\n",
        "parkinsons.csv\n",
        "planning.csv\n",
        "vertebral-column-3clases.csv\n",
        "wall-following.csv\n",
        "ozone.csv\n",
        "seeds.csv\n",
        "statlog-heart_.csv\n",
        "tic-tac-toe.csv\n",
        "ionosphere.csv\n",
        "abalon.csv\n",
        "spectf.csv\n",
        "credit-approval.csv\n",
        "chess-krvkp.csv'''.split('\\n')\n",
        "\n",
        "rdf = pd.concat([pd.read_csv(f) for f in files])\n",
        "ardf = rdf.groupby(['Dataset Name', 'Algorithm Name']).mean()\n",
        "rdf1 = ardf.groupby(['Dataset Name']).rank(ascending=False).groupby('Algorithm Name').mean()\n",
        "als = rdf1.reset_index()['Algorithm Name'].to_dict()\n",
        "rj = rdf1.reset_index()['ACC'].to_numpy()\n",
        "N=20\n",
        "L=3\n",
        "xf2 = ((12 * N) / (L * (L + 1))) * ((rj*rj).sum() - L * (L + 1) * (L + 1)*0.25)\n",
        "ff = ((N - 1) * xf2) / (N * (L - 1) - xf2)\n",
        "\n",
        "alpha = 0.05\n",
        "p_value = scipy.stats.f.cdf(ff, L-1, (L-1)*(N-1))\n",
        "if p_value > alpha:\n",
        "    print('rejected null hypothesis')\n",
        "\n",
        "q = 2.343\n",
        "CD = q * np.sqrt((L*(L+1))/(6*N))\n",
        "x, y = np.where(-(np.expand_dims(rj, 0) - np.expand_dims(rj, 0).T) > CD)\n",
        "\n",
        "for i, j in zip(list(x), list(y)):\n",
        "    print(f'algorithm {als[j]} is better than algorithm {als[i]}')"
      ],
      "execution_count": 12,
      "outputs": [
        {
          "output_type": "stream",
          "text": [
            "rejected null hypothesis\n",
            "algorithm momentum is better than algorithm improved_lookahead\n",
            "algorithm momentum is better than algorithm lookahead\n"
          ],
          "name": "stdout"
        }
      ]
    }
  ]
}